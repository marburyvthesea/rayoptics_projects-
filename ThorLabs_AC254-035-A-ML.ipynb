{
 "cells": [
  {
   "cell_type": "code",
   "execution_count": 1,
   "id": "angry-boost",
   "metadata": {},
   "outputs": [],
   "source": [
    "import numpy as np\n",
    "import matplotlib.pyplot as plt\n",
    "from rayoptics.optical.opticalmodel import OpticalModel\n",
    "from rayoptics.gui.appcmds import open_model\n",
    "%matplotlib widget\n",
    "\n",
    "isdark = False\n",
    "\n",
    "%matplotlib inline\n",
    "\n",
    "from rayoptics.environment import *"
   ]
  },
  {
   "cell_type": "code",
   "execution_count": 2,
   "id": "mathematical-candidate",
   "metadata": {},
   "outputs": [],
   "source": [
    "## ThorLabs part AC254-035-A-ML - f=35 mm, Ø1\" Achromatic Doublet, SM1-Threaded Mount, ARC: 400-700 nm \n",
    "# for collimating 488 LD"
   ]
  },
  {
   "cell_type": "code",
   "execution_count": 3,
   "id": "celtic-impact",
   "metadata": {},
   "outputs": [],
   "source": [
    "root_pth = Path(rayoptics.__file__).resolve().parent"
   ]
  },
  {
   "cell_type": "code",
   "execution_count": 4,
   "id": "proud-drain",
   "metadata": {},
   "outputs": [],
   "source": [
    "dir_path = '/Users/johnmarshall/Documents/Analysis/PythonAnalysisScripts/ray_optics_projects/'"
   ]
  },
  {
   "cell_type": "code",
   "execution_count": 5,
   "id": "behavioral-notion",
   "metadata": {
    "scrolled": true
   },
   "outputs": [],
   "source": [
    "opm, info = open_model(dir_path+\"/AC254-035-A-ML-Zemax(ZMX).zmx\", info=True)"
   ]
  },
  {
   "cell_type": "code",
   "execution_count": null,
   "id": "about-tyler",
   "metadata": {},
   "outputs": [],
   "source": [
    "#for generating \"interpolated glass\" definition to add to smx file\n",
    "#rayoptics.seq.medium.InterpolatedGlass('D-ZK3M', cat='LightPath', pairs=[(2352.4, 1.555),(1970.1, 1.561),(1529.6, 1.568),(1128.6, 1.573),(1014.0, 1.575),(852.1, 1.578),(706.5, 1.582),(656.3, 1.583),(643.8, 1.584),(632.8, 1.584),(589.3, 1.586),(587.6,1.586),(546.1, 1.589),(486.1, 1.593),(480.0, 1.594),(435.8, 1.598),(404.7, 1.602),(365.0, 1.610)])"
   ]
  },
  {
   "cell_type": "code",
   "execution_count": 92,
   "id": "asian-corrections",
   "metadata": {
    "scrolled": true
   },
   "outputs": [
    {
     "data": {
      "text/plain": [
       "[1, 2, 4, 5]"
      ]
     },
     "execution_count": 92,
     "metadata": {},
     "output_type": "execute_result"
    }
   ],
   "source": [
    "[int(i) for i in '1,2,4,5'.split(\",\")]"
   ]
  },
  {
   "cell_type": "code",
   "execution_count": 6,
   "id": "arranged-conspiracy",
   "metadata": {
    "scrolled": true
   },
   "outputs": [
    {
     "data": {
      "text/plain": [
       "({'VERS': '120928 3 30221',\n",
       "  'pupil': ('aperture', 'object', 'pupil'),\n",
       "  'FTYP': '0 0 1 3 0 0 0',\n",
       "  'STANDARD': 5,\n",
       "  'conj type': 'infinite',\n",
       "  '# surfs': 5,\n",
       "  '# wvls': 3,\n",
       "  'fov': ('field', 'object', 'angle'),\n",
       "  '# fields': 1,\n",
       "  'GCAT': ['SCHOTT', 'INFRARED', 'MISC'],\n",
       "  'glass found': 2,\n",
       "  'encoding': 'utf-8'},\n",
       " {})"
      ]
     },
     "execution_count": 6,
     "metadata": {},
     "output_type": "execute_result"
    }
   ],
   "source": [
    "info"
   ]
  },
  {
   "cell_type": "code",
   "execution_count": 7,
   "id": "accurate-protocol",
   "metadata": {},
   "outputs": [],
   "source": [
    "#aliases for using rayoptics functions\n",
    "sm = opm.seq_model\n",
    "osp = opm.optical_spec\n",
    "pm = opm.parax_model"
   ]
  },
  {
   "cell_type": "code",
   "execution_count": 18,
   "id": "pediatric-joint",
   "metadata": {
    "scrolled": true
   },
   "outputs": [
    {
     "name": "stdout",
     "output_type": "stream",
     "text": [
      "Help on PupilSpec in module rayoptics.raytr.opticalspec object:\n",
      "\n",
      "class PupilSpec(builtins.object)\n",
      " |  PupilSpec(parent, key=('object', 'pupil'), value=1.0)\n",
      " |  \n",
      " |  Aperture specification\n",
      " |  \n",
      " |  Attributes:\n",
      " |      key: 'aperture', 'object'|'image', 'pupil'|'NA'|'f/#'\n",
      " |      value: size of the pupil\n",
      " |      pupil_rays: list of relative pupil coordinates for pupil limiting rays\n",
      " |      ray_labels: list of string labels for pupil_rays\n",
      " |  \n",
      " |  Methods defined here:\n",
      " |  \n",
      " |  __init__(self, parent, key=('object', 'pupil'), value=1.0)\n",
      " |      Initialize self.  See help(type(self)) for accurate signature.\n",
      " |  \n",
      " |  __json_encode__(self)\n",
      " |  \n",
      " |  get_input_for_specsheet(self)\n",
      " |  \n",
      " |  get_pupil_type(self)\n",
      " |  \n",
      " |  mutate_pupil_type(self, new_pupil_type)\n",
      " |  \n",
      " |  set_from_list(self, ppl_spec)\n",
      " |  \n",
      " |  set_from_specsheet(self, ss)\n",
      " |  \n",
      " |  sync_to_restore(self, optical_spec)\n",
      " |  \n",
      " |  update_model(self)\n",
      " |  \n",
      " |  ----------------------------------------------------------------------\n",
      " |  Data descriptors defined here:\n",
      " |  \n",
      " |  __dict__\n",
      " |      dictionary for instance variables (if defined)\n",
      " |  \n",
      " |  __weakref__\n",
      " |      list of weak references to the object (if defined)\n",
      " |  \n",
      " |  ----------------------------------------------------------------------\n",
      " |  Data and other attributes defined here:\n",
      " |  \n",
      " |  default_pupil_rays = [[0.0, 0.0], [1.0, 0.0], [-1.0, 0.0], [0.0, 1.0],...\n",
      " |  \n",
      " |  default_ray_labels = ['00', '+X', '-X', '+Y', '-Y']\n",
      "\n"
     ]
    }
   ],
   "source": [
    "help(osp.pupil)"
   ]
  },
  {
   "cell_type": "code",
   "execution_count": 19,
   "id": "empty-essence",
   "metadata": {},
   "outputs": [
    {
     "data": {
      "text/plain": [
       "0"
      ]
     },
     "execution_count": 19,
     "metadata": {},
     "output_type": "execute_result"
    }
   ],
   "source": [
    "osp.pupil.get_pupil_type()"
   ]
  },
  {
   "cell_type": "code",
   "execution_count": 177,
   "id": "furnished-rendering",
   "metadata": {},
   "outputs": [],
   "source": [
    "##modifying pupil/aperture size, input is pupil diameter \n",
    "osp.pupil = PupilSpec(osp, key=['object', 'pupil'], value=20)"
   ]
  },
  {
   "cell_type": "code",
   "execution_count": 171,
   "id": "given-companion",
   "metadata": {},
   "outputs": [],
   "source": [
    "##modifying field of view, input is angle in degrees \n",
    "osp.field_of_view = FieldSpec(osp, key=['object', 'angle'], flds=[0., 0.])"
   ]
  },
  {
   "cell_type": "code",
   "execution_count": 179,
   "id": "dutch-steam",
   "metadata": {
    "scrolled": true
   },
   "outputs": [],
   "source": [
    "opm.update_model()"
   ]
  },
  {
   "cell_type": "code",
   "execution_count": 168,
   "id": "resident-district",
   "metadata": {},
   "outputs": [
    {
     "data": {
      "text/plain": [
       "[486.09999999999997, 587.6, 656.3]"
      ]
     },
     "execution_count": 168,
     "metadata": {},
     "output_type": "execute_result"
    }
   ],
   "source": [
    "osp.spectral_region.wavelengths"
   ]
  },
  {
   "cell_type": "code",
   "execution_count": 134,
   "id": "lesbian-browse",
   "metadata": {},
   "outputs": [
    {
     "name": "stdout",
     "output_type": "stream",
     "text": [
      "             c            t        medium     mode   zdr      sd\n",
      " Obj:     0.000000  1.00000e+10       air             1      0.0000\n",
      "Stop:     0.041684      12.0000   N-BAF10             1      12.700\n",
      "   2:    -0.052356      2.00000   N-SF6HT             1      12.700\n",
      "   3:    -0.009795      26.9240       air             1      12.700\n",
      " Img:     0.000000      0.00000                       1     0.11582\n"
     ]
    }
   ],
   "source": [
    "sm.list_model()"
   ]
  },
  {
   "cell_type": "code",
   "execution_count": 137,
   "id": "reflected-martin",
   "metadata": {},
   "outputs": [
    {
     "name": "stdout",
     "output_type": "stream",
     "text": [
      "0: E1 (Element): Element: Spherical(c=0.0416840350145894), Spherical(c=-0.0523560209424084), t=12.0000, sd=12.7000, glass: N-BAF10\n",
      "1: E2 (Element): Element: Spherical(c=-0.0523560209424084), Spherical(c=-0.0097952786756783), t=2.0000, sd=12.7000, glass: N-SF6HT\n",
      "2: AirGap E2-Image (AirGap): Gap(t=26.92401660737, medium=Air())\n",
      "3: Image (DummyInterface): Surface(lbl='Img', profile=Spherical(c=0.0), interact_mode=transmit)\n"
     ]
    }
   ],
   "source": [
    "opm.ele_model.list_elements()"
   ]
  },
  {
   "cell_type": "code",
   "execution_count": 135,
   "id": "novel-carter",
   "metadata": {},
   "outputs": [
    {
     "name": "stdout",
     "output_type": "stream",
     "text": [
      "              c               mode        type        y       alpha\n",
      "                      t           medium\n",
      " Obj:      0.00000                 \n",
      "                1.00000e+10          air\n",
      "Stop:    0.0416840                 \n",
      "                    12.0000      N-BAF10\n",
      "   2:   -0.0523560                 \n",
      "                    2.00000      N-SF6HT\n",
      "   3:  -0.00979528                 \n",
      "                    26.9240          air\n",
      " Img:      0.00000                 \n"
     ]
    }
   ],
   "source": [
    "sm.list_sg()"
   ]
  },
  {
   "cell_type": "code",
   "execution_count": 180,
   "id": "assumed-crown",
   "metadata": {
    "scrolled": true
   },
   "outputs": [
    {
     "data": {
      "image/png": "[encoded data removed]",
      "text/plain": [
       "<InteractiveLayout size 432x288 with 1 Axes>"
      ]
     },
     "metadata": {},
     "output_type": "display_data"
    }
   ],
   "source": [
    "##so in this example \"pupil is left and image is right\"\n",
    "layout_plt = plt.figure(FigureClass=InteractiveLayout, opt_model=opm,\n",
    "                        do_draw_rays=True, do_paraxial_layout=False).plot()"
   ]
  },
  {
   "cell_type": "code",
   "execution_count": null,
   "id": "parental-neutral",
   "metadata": {},
   "outputs": [],
   "source": [
    "## create new model with surfaces reversed "
   ]
  },
  {
   "cell_type": "code",
   "execution_count": 188,
   "id": "minus-sampling",
   "metadata": {},
   "outputs": [],
   "source": [
    "opm_1 = OpticalModel()\n",
    "sm_1 = opm_1.seq_model\n",
    "osp_1 = opm_1.optical_spec\n",
    "pm_1 = opm_1.parax_model"
   ]
  },
  {
   "cell_type": "code",
   "execution_count": 189,
   "id": "funny-queensland",
   "metadata": {},
   "outputs": [],
   "source": [
    "#help(sm.gaps)"
   ]
  },
  {
   "cell_type": "code",
   "execution_count": 190,
   "id": "spanish-repair",
   "metadata": {
    "scrolled": true
   },
   "outputs": [
    {
     "name": "stdout",
     "output_type": "stream",
     "text": [
      "Help on method add_surface in module rayoptics.seq.sequential:\n",
      "\n",
      "add_surface(surf_data, **kwargs) method of rayoptics.seq.sequential.SequentialModel instance\n",
      "    add a surface where surf is a list that contains:\n",
      "    [curvature, thickness, refractive_index, v-number]\n",
      "\n"
     ]
    }
   ],
   "source": [
    "help(sm_1.add_surface)"
   ]
  },
  {
   "cell_type": "code",
   "execution_count": 191,
   "id": "graphic-screening",
   "metadata": {},
   "outputs": [],
   "source": [
    "sm_1.add_surface([-0.0523560209424084, 2.0000, 'N-SF6HT', 'SCHOTT'])"
   ]
  },
  {
   "cell_type": "code",
   "execution_count": 192,
   "id": "waiting-causing",
   "metadata": {},
   "outputs": [
    {
     "ename": "AttributeError",
     "evalue": "'NoneType' object has no attribute 'imager_defined'",
     "output_type": "error",
     "traceback": [
      "\u001b[0;31m---------------------------------------------------------------------------\u001b[0m",
      "\u001b[0;31mAttributeError\u001b[0m                            Traceback (most recent call last)",
      "\u001b[0;32m<ipython-input-192-619e72a7590d>\u001b[0m in \u001b[0;36m<module>\u001b[0;34m\u001b[0m\n\u001b[0;32m----> 1\u001b[0;31m layout_plt = plt.figure(FigureClass=InteractiveLayout, opt_model=opm_1,\n\u001b[0m\u001b[1;32m      2\u001b[0m                         do_draw_rays=True, do_paraxial_layout=False).plot()\n",
      "\u001b[0;32m~/miniconda3/envs/rayoptics_2/lib/python3.9/site-packages/matplotlib/pyplot.py\u001b[0m in \u001b[0;36mfigure\u001b[0;34m(num, figsize, dpi, facecolor, edgecolor, frameon, FigureClass, clear, **kwargs)\u001b[0m\n\u001b[1;32m    685\u001b[0m             \u001b[0mdpi\u001b[0m \u001b[0;34m=\u001b[0m \u001b[0;36m72\u001b[0m\u001b[0;34m\u001b[0m\u001b[0;34m\u001b[0m\u001b[0m\n\u001b[1;32m    686\u001b[0m \u001b[0;34m\u001b[0m\u001b[0m\n\u001b[0;32m--> 687\u001b[0;31m         figManager = new_figure_manager(num, figsize=figsize,\n\u001b[0m\u001b[1;32m    688\u001b[0m                                         \u001b[0mdpi\u001b[0m\u001b[0;34m=\u001b[0m\u001b[0mdpi\u001b[0m\u001b[0;34m,\u001b[0m\u001b[0;34m\u001b[0m\u001b[0;34m\u001b[0m\u001b[0m\n\u001b[1;32m    689\u001b[0m                                         \u001b[0mfacecolor\u001b[0m\u001b[0;34m=\u001b[0m\u001b[0mfacecolor\u001b[0m\u001b[0;34m,\u001b[0m\u001b[0;34m\u001b[0m\u001b[0;34m\u001b[0m\u001b[0m\n",
      "\u001b[0;32m~/miniconda3/envs/rayoptics_2/lib/python3.9/site-packages/matplotlib/pyplot.py\u001b[0m in \u001b[0;36mnew_figure_manager\u001b[0;34m(*args, **kwargs)\u001b[0m\n\u001b[1;32m    313\u001b[0m     \u001b[0;34m\"\"\"Create a new figure manager instance.\"\"\"\u001b[0m\u001b[0;34m\u001b[0m\u001b[0;34m\u001b[0m\u001b[0m\n\u001b[1;32m    314\u001b[0m     \u001b[0m_warn_if_gui_out_of_main_thread\u001b[0m\u001b[0;34m(\u001b[0m\u001b[0;34m)\u001b[0m\u001b[0;34m\u001b[0m\u001b[0;34m\u001b[0m\u001b[0m\n\u001b[0;32m--> 315\u001b[0;31m     \u001b[0;32mreturn\u001b[0m \u001b[0m_backend_mod\u001b[0m\u001b[0;34m.\u001b[0m\u001b[0mnew_figure_manager\u001b[0m\u001b[0;34m(\u001b[0m\u001b[0;34m*\u001b[0m\u001b[0margs\u001b[0m\u001b[0;34m,\u001b[0m \u001b[0;34m**\u001b[0m\u001b[0mkwargs\u001b[0m\u001b[0;34m)\u001b[0m\u001b[0;34m\u001b[0m\u001b[0;34m\u001b[0m\u001b[0m\n\u001b[0m\u001b[1;32m    316\u001b[0m \u001b[0;34m\u001b[0m\u001b[0m\n\u001b[1;32m    317\u001b[0m \u001b[0;34m\u001b[0m\u001b[0m\n",
      "\u001b[0;32m~/miniconda3/envs/rayoptics_2/lib/python3.9/site-packages/matplotlib/backend_bases.py\u001b[0m in \u001b[0;36mnew_figure_manager\u001b[0;34m(cls, num, *args, **kwargs)\u001b[0m\n\u001b[1;32m   3491\u001b[0m         \u001b[0;32mfrom\u001b[0m \u001b[0mmatplotlib\u001b[0m\u001b[0;34m.\u001b[0m\u001b[0mfigure\u001b[0m \u001b[0;32mimport\u001b[0m \u001b[0mFigure\u001b[0m\u001b[0;34m\u001b[0m\u001b[0;34m\u001b[0m\u001b[0m\n\u001b[1;32m   3492\u001b[0m         \u001b[0mfig_cls\u001b[0m \u001b[0;34m=\u001b[0m \u001b[0mkwargs\u001b[0m\u001b[0;34m.\u001b[0m\u001b[0mpop\u001b[0m\u001b[0;34m(\u001b[0m\u001b[0;34m'FigureClass'\u001b[0m\u001b[0;34m,\u001b[0m \u001b[0mFigure\u001b[0m\u001b[0;34m)\u001b[0m\u001b[0;34m\u001b[0m\u001b[0;34m\u001b[0m\u001b[0m\n\u001b[0;32m-> 3493\u001b[0;31m         \u001b[0mfig\u001b[0m \u001b[0;34m=\u001b[0m \u001b[0mfig_cls\u001b[0m\u001b[0;34m(\u001b[0m\u001b[0;34m*\u001b[0m\u001b[0margs\u001b[0m\u001b[0;34m,\u001b[0m \u001b[0;34m**\u001b[0m\u001b[0mkwargs\u001b[0m\u001b[0;34m)\u001b[0m\u001b[0;34m\u001b[0m\u001b[0;34m\u001b[0m\u001b[0m\n\u001b[0m\u001b[1;32m   3494\u001b[0m         \u001b[0;32mreturn\u001b[0m \u001b[0mcls\u001b[0m\u001b[0;34m.\u001b[0m\u001b[0mnew_figure_manager_given_figure\u001b[0m\u001b[0;34m(\u001b[0m\u001b[0mnum\u001b[0m\u001b[0;34m,\u001b[0m \u001b[0mfig\u001b[0m\u001b[0;34m)\u001b[0m\u001b[0;34m\u001b[0m\u001b[0;34m\u001b[0m\u001b[0m\n\u001b[1;32m   3495\u001b[0m \u001b[0;34m\u001b[0m\u001b[0m\n",
      "\u001b[0;32m~/miniconda3/envs/rayoptics_2/lib/python3.9/site-packages/rayoptics/mpl/interactivelayout.py\u001b[0m in \u001b[0;36m__init__\u001b[0;34m(self, opt_model, refresh_gui, offset_factor, do_draw_rays, do_paraxial_layout, **kwargs)\u001b[0m\n\u001b[1;32m     41\u001b[0m         \u001b[0mself\u001b[0m\u001b[0;34m.\u001b[0m\u001b[0moffset_factor\u001b[0m \u001b[0;34m=\u001b[0m \u001b[0moffset_factor\u001b[0m\u001b[0;34m\u001b[0m\u001b[0;34m\u001b[0m\u001b[0m\n\u001b[1;32m     42\u001b[0m \u001b[0;34m\u001b[0m\u001b[0m\n\u001b[0;32m---> 43\u001b[0;31m         \u001b[0msuper\u001b[0m\u001b[0;34m(\u001b[0m\u001b[0;34m)\u001b[0m\u001b[0;34m.\u001b[0m\u001b[0m__init__\u001b[0m\u001b[0;34m(\u001b[0m\u001b[0;34m**\u001b[0m\u001b[0mkwargs\u001b[0m\u001b[0;34m)\u001b[0m\u001b[0;34m\u001b[0m\u001b[0;34m\u001b[0m\u001b[0m\n\u001b[0m\u001b[1;32m     44\u001b[0m \u001b[0;34m\u001b[0m\u001b[0m\n\u001b[1;32m     45\u001b[0m     \u001b[0;32mdef\u001b[0m \u001b[0msync_light_or_dark\u001b[0m\u001b[0;34m(\u001b[0m\u001b[0mself\u001b[0m\u001b[0;34m,\u001b[0m \u001b[0mis_dark\u001b[0m\u001b[0;34m,\u001b[0m \u001b[0;34m**\u001b[0m\u001b[0mkwargs\u001b[0m\u001b[0;34m)\u001b[0m\u001b[0;34m:\u001b[0m\u001b[0;34m\u001b[0m\u001b[0;34m\u001b[0m\u001b[0m\n",
      "\u001b[0;32m~/miniconda3/envs/rayoptics_2/lib/python3.9/site-packages/rayoptics/mpl/interactivefigure.py\u001b[0m in \u001b[0;36m__init__\u001b[0;34m(self, do_draw_frame, do_draw_axes, oversize_factor, aspect, view_bbox, do_scale_bounds, **kwargs)\u001b[0m\n\u001b[1;32m     89\u001b[0m         \u001b[0msuper\u001b[0m\u001b[0;34m(\u001b[0m\u001b[0;34m)\u001b[0m\u001b[0;34m.\u001b[0m\u001b[0m__init__\u001b[0m\u001b[0;34m(\u001b[0m\u001b[0;34m**\u001b[0m\u001b[0mkwargs\u001b[0m\u001b[0;34m)\u001b[0m\u001b[0;34m\u001b[0m\u001b[0;34m\u001b[0m\u001b[0m\n\u001b[1;32m     90\u001b[0m \u001b[0;34m\u001b[0m\u001b[0m\n\u001b[0;32m---> 91\u001b[0;31m         \u001b[0mself\u001b[0m\u001b[0;34m.\u001b[0m\u001b[0mupdate_data\u001b[0m\u001b[0;34m(\u001b[0m\u001b[0;34m)\u001b[0m\u001b[0;34m\u001b[0m\u001b[0;34m\u001b[0m\u001b[0m\n\u001b[0m\u001b[1;32m     92\u001b[0m         \u001b[0mself\u001b[0m\u001b[0;34m.\u001b[0m\u001b[0mview_bbox\u001b[0m \u001b[0;34m=\u001b[0m \u001b[0mview_bbox\u001b[0m \u001b[0;32mif\u001b[0m \u001b[0mview_bbox\u001b[0m \u001b[0;32melse\u001b[0m \u001b[0mself\u001b[0m\u001b[0;34m.\u001b[0m\u001b[0mfit_axis_limits\u001b[0m\u001b[0;34m(\u001b[0m\u001b[0;34m)\u001b[0m\u001b[0;34m\u001b[0m\u001b[0;34m\u001b[0m\u001b[0m\n\u001b[1;32m     93\u001b[0m \u001b[0;34m\u001b[0m\u001b[0m\n",
      "\u001b[0;32m~/miniconda3/envs/rayoptics_2/lib/python3.9/site-packages/rayoptics/mpl/interactivelayout.py\u001b[0m in \u001b[0;36mupdate_data\u001b[0;34m(self, **kwargs)\u001b[0m\n\u001b[1;32m     57\u001b[0m \u001b[0;34m\u001b[0m\u001b[0m\n\u001b[1;32m     58\u001b[0m         \u001b[0;32mif\u001b[0m \u001b[0mself\u001b[0m\u001b[0;34m.\u001b[0m\u001b[0mdo_draw_rays\u001b[0m\u001b[0;34m:\u001b[0m\u001b[0;34m\u001b[0m\u001b[0;34m\u001b[0m\u001b[0m\n\u001b[0;32m---> 59\u001b[0;31m             sl_so = layout.system_length(self.ele_bbox,\n\u001b[0m\u001b[1;32m     60\u001b[0m                                          offset_factor=self.offset_factor)\n\u001b[1;32m     61\u001b[0m             \u001b[0msystem_length\u001b[0m\u001b[0;34m,\u001b[0m \u001b[0mstart_offset\u001b[0m \u001b[0;34m=\u001b[0m \u001b[0msl_so\u001b[0m\u001b[0;34m\u001b[0m\u001b[0;34m\u001b[0m\u001b[0m\n",
      "\u001b[0;32m~/miniconda3/envs/rayoptics_2/lib/python3.9/site-packages/rayoptics/elem/layout.py\u001b[0m in \u001b[0;36msystem_length\u001b[0;34m(self, ele_bbox, offset_factor)\u001b[0m\n\u001b[1;32m    451\u001b[0m         \u001b[0mosp\u001b[0m \u001b[0;34m=\u001b[0m \u001b[0mself\u001b[0m\u001b[0;34m.\u001b[0m\u001b[0mopt_model\u001b[0m\u001b[0;34m.\u001b[0m\u001b[0moptical_spec\u001b[0m\u001b[0;34m\u001b[0m\u001b[0;34m\u001b[0m\u001b[0m\n\u001b[1;32m    452\u001b[0m         \u001b[0mele_length\u001b[0m \u001b[0;34m=\u001b[0m \u001b[0mele_bbox\u001b[0m\u001b[0;34m[\u001b[0m\u001b[0;36m1\u001b[0m\u001b[0;34m]\u001b[0m\u001b[0;34m[\u001b[0m\u001b[0;36m0\u001b[0m\u001b[0;34m]\u001b[0m \u001b[0;34m-\u001b[0m \u001b[0mele_bbox\u001b[0m\u001b[0;34m[\u001b[0m\u001b[0;36m0\u001b[0m\u001b[0;34m]\u001b[0m\u001b[0;34m[\u001b[0m\u001b[0;36m0\u001b[0m\u001b[0;34m]\u001b[0m\u001b[0;34m\u001b[0m\u001b[0;34m\u001b[0m\u001b[0m\n\u001b[0;32m--> 453\u001b[0;31m         \u001b[0;32mif\u001b[0m \u001b[0mspecsheet\u001b[0m\u001b[0;34m.\u001b[0m\u001b[0mimager_defined\u001b[0m\u001b[0;34m(\u001b[0m\u001b[0;34m)\u001b[0m\u001b[0;34m:\u001b[0m\u001b[0;34m\u001b[0m\u001b[0;34m\u001b[0m\u001b[0m\n\u001b[0m\u001b[1;32m    454\u001b[0m             \u001b[0;32mif\u001b[0m \u001b[0mspecsheet\u001b[0m\u001b[0;34m.\u001b[0m\u001b[0mconjugate_type\u001b[0m \u001b[0;34m==\u001b[0m \u001b[0;34m'finite'\u001b[0m\u001b[0;34m:\u001b[0m\u001b[0;34m\u001b[0m\u001b[0;34m\u001b[0m\u001b[0m\n\u001b[1;32m    455\u001b[0m                 \u001b[0;32mreturn\u001b[0m \u001b[0mspecsheet\u001b[0m\u001b[0;34m.\u001b[0m\u001b[0mimager\u001b[0m\u001b[0;34m.\u001b[0m\u001b[0mtt\u001b[0m\u001b[0;34m,\u001b[0m \u001b[0;34m(\u001b[0m\u001b[0;36m2\u001b[0m\u001b[0;34m/\u001b[0m\u001b[0;36m3\u001b[0m\u001b[0;34m)\u001b[0m\u001b[0;34m*\u001b[0m\u001b[0mspecsheet\u001b[0m\u001b[0;34m.\u001b[0m\u001b[0mimager\u001b[0m\u001b[0;34m.\u001b[0m\u001b[0msp\u001b[0m\u001b[0;34m\u001b[0m\u001b[0;34m\u001b[0m\u001b[0m\n",
      "\u001b[0;31mAttributeError\u001b[0m: 'NoneType' object has no attribute 'imager_defined'"
     ]
    }
   ],
   "source": [
    "layout_plt = plt.figure(FigureClass=InteractiveLayout, opt_model=opm_1,\n",
    "                        do_draw_rays=True, do_paraxial_layout=False).plot()"
   ]
  },
  {
   "cell_type": "code",
   "execution_count": 18,
   "id": "lesser-death",
   "metadata": {},
   "outputs": [],
   "source": [
    "##apply translation in y to first surface of lens \n",
    "# define translation matricies for decenter\n",
    "sm.ifcs[1].decenter = srf.DecenterData(DecenterType.LOCAL)\n",
    "sm.ifcs[2].decenter = srf.DecenterData(DecenterType.REV)\n",
    "# set second element of translation (y offset) to .2\n",
    "sm.ifcs[1].decenter.dec[1] = .2\n",
    "sm.ifcs[2].decenter.dec[1] = .2"
   ]
  },
  {
   "cell_type": "code",
   "execution_count": null,
   "id": "general-equipment",
   "metadata": {},
   "outputs": [],
   "source": [
    "## in order to keep rays directed along axis when perturbing lens, set dummy plane separate from first (front) surface of lens]\n",
    "opm.add_dummy_plane(idx=0)"
   ]
  },
  {
   "cell_type": "code",
   "execution_count": 26,
   "id": "exempt-territory",
   "metadata": {},
   "outputs": [
    {
     "data": {
      "text/plain": [
       "1"
      ]
     },
     "execution_count": 26,
     "metadata": {},
     "output_type": "execute_result"
    }
   ],
   "source": [
    "sm.cur_surface\n",
    "#set current surface (1 or newly created dummy plane) to stop\n",
    "sm.set_stop()"
   ]
  },
  {
   "cell_type": "code",
   "execution_count": 27,
   "id": "awful-conflict",
   "metadata": {},
   "outputs": [
    {
     "name": "stdout",
     "output_type": "stream",
     "text": [
      "              c               mode        type        y       alpha\n",
      "                      t           medium\n",
      " Obj:      0.00000                 \n",
      "                1.00000e+10          air\n",
      "Stop:      0.00000                 \n",
      "                    0.00000          air\n",
      "   2:      1.18217                       LOCAL    0.20000     0.0000\n",
      "                   0.862527       D-ZK3M\n",
      "   3:      0.00000                         REV    0.20000     0.0000\n",
      "                   0.523243          air\n",
      "   4:      0.00000                 \n",
      "                   0.250000        N-BK7\n",
      "   5:      0.00000                 \n",
      "                   0.249999          air\n",
      " Img:      0.00000                 \n"
     ]
    }
   ],
   "source": [
    "sm.list_sg()"
   ]
  },
  {
   "cell_type": "code",
   "execution_count": 28,
   "id": "historical-involvement",
   "metadata": {},
   "outputs": [],
   "source": [
    "opm.update_model()"
   ]
  },
  {
   "cell_type": "code",
   "execution_count": 29,
   "id": "daily-knife",
   "metadata": {},
   "outputs": [
    {
     "data": {
      "image/png": "[encoded data removed]",
      "text/plain": [
       "<InteractiveLayout size 432x288 with 1 Axes>"
      ]
     },
     "metadata": {},
     "output_type": "display_data"
    }
   ],
   "source": [
    "layout_plt = plt.figure(FigureClass=InteractiveLayout, opt_model=opm,\n",
    "                        do_draw_rays=True, do_paraxial_layout=False).plot()"
   ]
  },
  {
   "cell_type": "code",
   "execution_count": null,
   "id": "caring-brass",
   "metadata": {},
   "outputs": [],
   "source": []
  }
 ],
 "metadata": {
  "kernelspec": {
   "display_name": "rayoptics_2",
   "language": "python",
   "name": "rayoptics_2"
  },
  "language_info": {
   "codemirror_mode": {
    "name": "ipython",
    "version": 3
   },
   "file_extension": ".py",
   "mimetype": "text/x-python",
   "name": "python",
   "nbconvert_exporter": "python",
   "pygments_lexer": "ipython3",
   "version": "3.9.2"
  }
 },
 "nbformat": 4,
 "nbformat_minor": 5
}
