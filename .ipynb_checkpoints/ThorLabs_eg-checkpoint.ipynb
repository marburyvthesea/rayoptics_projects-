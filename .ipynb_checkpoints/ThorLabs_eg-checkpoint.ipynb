{
 "cells": [
  {
   "cell_type": "code",
   "execution_count": 2,
   "id": "angry-boost",
   "metadata": {},
   "outputs": [],
   "source": [
    "import numpy as np\n",
    "import matplotlib.pyplot as plt\n",
    "from rayoptics.optical.opticalmodel import OpticalModel\n",
    "from rayoptics.gui.appcmds import open_model\n",
    "%matplotlib widget\n",
    "\n",
    "isdark = False\n",
    "\n",
    "%matplotlib inline\n",
    "\n",
    "from rayoptics.environment import *"
   ]
  },
  {
   "cell_type": "code",
   "execution_count": 3,
   "id": "mathematical-candidate",
   "metadata": {},
   "outputs": [],
   "source": [
    "## ThorLabs part 354710-C"
   ]
  },
  {
   "cell_type": "code",
   "execution_count": 4,
   "id": "historic-playlist",
   "metadata": {},
   "outputs": [],
   "source": [
    "root_pth = Path(rayoptics.__file__).resolve().parent"
   ]
  },
  {
   "cell_type": "code",
   "execution_count": 5,
   "id": "human-attention",
   "metadata": {},
   "outputs": [],
   "source": [
    "dir_path = '/Users/johnmarshall/Documents/Analysis/PythonAnalysisScripts/ray_optics_projects/'"
   ]
  },
  {
   "cell_type": "code",
   "execution_count": 6,
   "id": "facial-facing",
   "metadata": {
    "scrolled": true
   },
   "outputs": [],
   "source": [
    "opm, info = open_model(dir_path+\"/354710-C-Zemax(ZMX).zmx\", info=True)"
   ]
  },
  {
   "cell_type": "code",
   "execution_count": null,
   "id": "southeast-patrick",
   "metadata": {},
   "outputs": [],
   "source": [
    "#for generating \"interpolated glass\" definition to add to smx file\n",
    "rayoptics.seq.medium.InterpolatedGlass('D-ZK3M', cat='LightPath', pairs=[(2352.4, 1.555),(1970.1, 1.561),(1529.6, 1.568),(1128.6, 1.573),(1014.0, 1.575),(852.1, 1.578),(706.5, 1.582),(656.3, 1.583),(643.8, 1.584),(632.8, 1.584),(589.3, 1.586),(587.6,1.586),(546.1, 1.589),(486.1, 1.593),(480.0, 1.594),(435.8, 1.598),(404.7, 1.602),(365.0, 1.610)])"
   ]
  },
  {
   "cell_type": "code",
   "execution_count": 8,
   "id": "pursuant-fifteen",
   "metadata": {
    "scrolled": true
   },
   "outputs": [
    {
     "data": {
      "text/plain": [
       "({'VERS': '140124 258 36214',\n",
       "  'pupil': ('aperture', 'object', 'pupil'),\n",
       "  'FTYP': '0 0 1 1 0 0 0',\n",
       "  'STANDARD': 5,\n",
       "  'EVENASPH': 1,\n",
       "  'CONI': 1,\n",
       "  'conj type': 'infinite',\n",
       "  '# surfs': 6,\n",
       "  '# wvls': 1,\n",
       "  'fov': ('field', 'object', 'angle'),\n",
       "  '# fields': 1,\n",
       "  'GCAT': ['LIGHTPATH', 'SCHOTT'],\n",
       "  'encoding': 'utf-16'},\n",
       " {'D-ZK3M': \"InterpolatedGlass('D-ZK3M', cat='LightPath', wvls=[2352.4, 1970.1, 1529.6, 1128.6, 1014.0, 852.1, 706.5, 656.3, 643.8, 632.8, 589.3, 587.6, 546.1, 486.1, 480.0, 435.8, 404.7, 365.0], rndx=[1.555, 1.561, 1.568, 1.573, 1.575, 1.578, 1.582, 1.583, 1.584, 1.584, 1.586, 1.586, 1.589, 1.593, 1.594, 1.598, 1.602, 1.61])\",\n",
       "  'BK7': \"create_glass('N-BK7','Schott')\"})"
      ]
     },
     "execution_count": 8,
     "metadata": {},
     "output_type": "execute_result"
    }
   ],
   "source": [
    "info"
   ]
  },
  {
   "cell_type": "code",
   "execution_count": 9,
   "id": "accurate-protocol",
   "metadata": {},
   "outputs": [],
   "source": [
    "#aliases for using rayoptics functions\n",
    "sm = opm.seq_model\n",
    "osp = opm.optical_spec\n",
    "pm = opm.parax_model"
   ]
  },
  {
   "cell_type": "code",
   "execution_count": 10,
   "id": "reasonable-check",
   "metadata": {},
   "outputs": [
    {
     "data": {
      "text/plain": [
       "[1550.0]"
      ]
     },
     "execution_count": 10,
     "metadata": {},
     "output_type": "execute_result"
    }
   ],
   "source": [
    "osp.spectral_region.wavelengths"
   ]
  },
  {
   "cell_type": "code",
   "execution_count": 11,
   "id": "lesbian-browse",
   "metadata": {},
   "outputs": [
    {
     "name": "stdout",
     "output_type": "stream",
     "text": [
      "             c            t        medium     mode   zdr      sd\n",
      " Obj:     0.000000  1.00000e+10       air             1      0.0000\n",
      "Stop:     1.182174     0.862527    D-ZK3M             1     0.75000\n",
      "   2:     0.000000     0.523243       air             1     0.57417\n",
      "   3:     0.000000     0.250000     N-BK7             1     0.24917\n",
      "   4:     0.000000     0.249999       air             1     0.15527\n",
      " Img:     0.000000      0.00000                       1  8.9134e-06\n"
     ]
    }
   ],
   "source": [
    "sm.list_model()"
   ]
  },
  {
   "cell_type": "code",
   "execution_count": 16,
   "id": "wrong-vegetation",
   "metadata": {},
   "outputs": [
    {
     "name": "stdout",
     "output_type": "stream",
     "text": [
      "              c               mode        type        y       alpha\n",
      "                      t           medium\n",
      " Obj:      0.00000                 \n",
      "                1.00000e+10          air\n",
      "Stop:      1.18217                 \n",
      "                   0.862527       D-ZK3M\n",
      "   2:      0.00000                 \n",
      "                   0.523243          air\n",
      "   3:      0.00000                 \n",
      "                   0.250000        N-BK7\n",
      "   4:      0.00000                 \n",
      "                   0.249999          air\n",
      " Img:      0.00000                 \n"
     ]
    }
   ],
   "source": [
    "sm.list_sg()"
   ]
  },
  {
   "cell_type": "code",
   "execution_count": 15,
   "id": "generic-horizon",
   "metadata": {},
   "outputs": [
    {
     "data": {
      "image/png": "[encoded data removed]",
      "text/plain": [
       "<InteractiveLayout size 432x288 with 1 Axes>"
      ]
     },
     "metadata": {},
     "output_type": "display_data"
    }
   ],
   "source": [
    "layout_plt = plt.figure(FigureClass=InteractiveLayout, opt_model=opm,\n",
    "                        do_draw_rays=True, do_paraxial_layout=False).plot()"
   ]
  },
  {
   "cell_type": "code",
   "execution_count": 31,
   "id": "light-switzerland",
   "metadata": {},
   "outputs": [],
   "source": [
    "##apply translation in y to first surface of lens \n",
    "# define translation matricies for decenter\n",
    "sm.ifcs[1].decenter = srf.DecenterData(DecenterType.LOCAL)\n",
    "sm.ifcs[2].decenter = srf.DecenterData(DecenterType.REV)"
   ]
  },
  {
   "cell_type": "code",
   "execution_count": 32,
   "id": "through-sweet",
   "metadata": {},
   "outputs": [],
   "source": [
    "# set second element of translation (y offset = dec[1], x=dec[0]??) to .2\n",
    "sm.ifcs[1].decenter.dec[0] = .2\n",
    "sm.ifcs[2].decenter.dec[0] = .2"
   ]
  },
  {
   "cell_type": "code",
   "execution_count": null,
   "id": "subjective-tunisia",
   "metadata": {},
   "outputs": [],
   "source": [
    "## in order to keep rays directed along axis when perturbing lens, set dummy plane separate from first (front) surface of lens]\n",
    "opm.add_dummy_plane(idx=0)"
   ]
  },
  {
   "cell_type": "code",
   "execution_count": 46,
   "id": "useful-ballot",
   "metadata": {},
   "outputs": [],
   "source": [
    "sys_arg_2 = '1, 3, 5'"
   ]
  },
  {
   "cell_type": "code",
   "execution_count": 47,
   "id": "disturbed-initial",
   "metadata": {
    "scrolled": false
   },
   "outputs": [
    {
     "data": {
      "text/plain": [
       "[1, 3, 5]"
      ]
     },
     "execution_count": 47,
     "metadata": {},
     "output_type": "execute_result"
    }
   ],
   "source": [
    "[int(i) for i in sys_arg_2.split(', ')]"
   ]
  },
  {
   "cell_type": "code",
   "execution_count": 26,
   "id": "pharmaceutical-hybrid",
   "metadata": {},
   "outputs": [
    {
     "data": {
      "text/plain": [
       "1"
      ]
     },
     "execution_count": 26,
     "metadata": {},
     "output_type": "execute_result"
    }
   ],
   "source": [
    "sm.cur_surface\n",
    "#set current surface (1 or newly created dummy plane) to stop\n",
    "sm.set_stop()"
   ]
  },
  {
   "cell_type": "code",
   "execution_count": 33,
   "id": "extra-simon",
   "metadata": {
    "scrolled": true
   },
   "outputs": [
    {
     "name": "stdout",
     "output_type": "stream",
     "text": [
      "              c               mode        type        y       alpha\n",
      "                      t           medium\n",
      " Obj:      0.00000                 \n",
      "                1.00000e+10          air\n",
      "Stop:      0.00000                       LOCAL     0.0000     0.0000\n",
      "                    0.00000          air\n",
      "   2:      1.18217                         REV     0.0000     0.0000\n",
      "                   0.862527       D-ZK3M\n",
      "   3:      0.00000                         REV    0.20000     0.0000\n",
      "                   0.523243          air\n",
      "   4:      0.00000                 \n",
      "                   0.250000        N-BK7\n",
      "   5:      0.00000                 \n",
      "                   0.249999          air\n",
      " Img:      0.00000                 \n"
     ]
    }
   ],
   "source": [
    "sm.list_sg()"
   ]
  },
  {
   "cell_type": "code",
   "execution_count": 34,
   "id": "located-publication",
   "metadata": {},
   "outputs": [],
   "source": [
    "opm.update_model()"
   ]
  },
  {
   "cell_type": "code",
   "execution_count": 35,
   "id": "studied-harvest",
   "metadata": {
    "scrolled": true
   },
   "outputs": [
    {
     "data": {
      "image/png": "[encoded data removed]",
      "text/plain": [
       "<InteractiveLayout size 432x288 with 1 Axes>"
      ]
     },
     "metadata": {},
     "output_type": "display_data"
    }
   ],
   "source": [
    "layout_plt = plt.figure(FigureClass=InteractiveLayout, opt_model=opm,\n",
    "                        do_draw_rays=True, do_paraxial_layout=False).plot()"
   ]
  },
  {
   "cell_type": "code",
   "execution_count": null,
   "id": "incredible-water",
   "metadata": {},
   "outputs": [],
   "source": []
  }
 ],
 "metadata": {
  "kernelspec": {
   "display_name": "rayoptics_2",
   "language": "python",
   "name": "rayoptics_2"
  },
  "language_info": {
   "codemirror_mode": {
    "name": "ipython",
    "version": 3
   },
   "file_extension": ".py",
   "mimetype": "text/x-python",
   "name": "python",
   "nbconvert_exporter": "python",
   "pygments_lexer": "ipython3",
   "version": "3.9.2"
  }
 },
 "nbformat": 4,
 "nbformat_minor": 5
}
